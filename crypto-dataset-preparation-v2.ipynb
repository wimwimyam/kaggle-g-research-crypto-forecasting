{
 "cells": [
  {
   "cell_type": "code",
   "execution_count": 1,
   "id": "e02ccd7f",
   "metadata": {
    "_cell_guid": "b1076dfc-b9ad-4769-8c92-a6c4dae69d19",
    "_uuid": "8f2839f25d086af736a60e9eeb907d3b93b6e0e5",
    "execution": {
     "iopub.execute_input": "2022-01-27T07:38:21.256745Z",
     "iopub.status.busy": "2022-01-27T07:38:21.256101Z",
     "iopub.status.idle": "2022-01-27T07:38:21.330116Z",
     "shell.execute_reply": "2022-01-27T07:38:21.330673Z",
     "shell.execute_reply.started": "2022-01-27T07:35:53.106738Z"
    },
    "papermill": {
     "duration": 0.100645,
     "end_time": "2022-01-27T07:38:21.331001",
     "exception": false,
     "start_time": "2022-01-27T07:38:21.230356",
     "status": "completed"
    },
    "tags": []
   },
   "outputs": [],
   "source": [
    "import numpy as np # linear algebra\n",
    "import pandas as pd # data processing, CSV file I/O (e.g. pd.read_csv)\n",
    "from tqdm.auto import tqdm"
   ]
  },
  {
   "cell_type": "code",
   "execution_count": 2,
   "id": "7ed3f079",
   "metadata": {
    "execution": {
     "iopub.execute_input": "2022-01-27T07:38:21.369348Z",
     "iopub.status.busy": "2022-01-27T07:38:21.368532Z",
     "iopub.status.idle": "2022-01-27T07:39:19.629291Z",
     "shell.execute_reply": "2022-01-27T07:39:19.628588Z",
     "shell.execute_reply.started": "2022-01-27T07:35:53.190895Z"
    },
    "papermill": {
     "duration": 58.280074,
     "end_time": "2022-01-27T07:39:19.629446",
     "exception": false,
     "start_time": "2022-01-27T07:38:21.349372",
     "status": "completed"
    },
    "tags": []
   },
   "outputs": [],
   "source": [
    "train = pd.read_csv(\"../input/g-research-crypto-forecasting/train.csv\")"
   ]
  },
  {
   "cell_type": "code",
   "execution_count": 3,
   "id": "38ba3e44",
   "metadata": {
    "execution": {
     "iopub.execute_input": "2022-01-27T07:39:19.670701Z",
     "iopub.status.busy": "2022-01-27T07:39:19.669696Z",
     "iopub.status.idle": "2022-01-27T07:39:27.642596Z",
     "shell.execute_reply": "2022-01-27T07:39:27.639711Z",
     "shell.execute_reply.started": "2022-01-27T07:36:55.812845Z"
    },
    "papermill": {
     "duration": 7.99684,
     "end_time": "2022-01-27T07:39:27.643836",
     "exception": false,
     "start_time": "2022-01-27T07:39:19.646996",
     "status": "completed"
    },
    "tags": []
   },
   "outputs": [],
   "source": [
    "supplemental_train = pd.read_csv(\"../input/g-research-crypto-forecasting/supplemental_train.csv\")"
   ]
  },
  {
   "cell_type": "code",
   "execution_count": 4,
   "id": "6fa6ba04",
   "metadata": {
    "execution": {
     "iopub.execute_input": "2022-01-27T07:39:27.837433Z",
     "iopub.status.busy": "2022-01-27T07:39:27.829857Z",
     "iopub.status.idle": "2022-01-27T07:39:27.883522Z",
     "shell.execute_reply": "2022-01-27T07:39:27.885036Z",
     "shell.execute_reply.started": "2022-01-27T07:37:03.092479Z"
    },
    "papermill": {
     "duration": 0.126728,
     "end_time": "2022-01-27T07:39:27.885290",
     "exception": false,
     "start_time": "2022-01-27T07:39:27.758562",
     "status": "completed"
    },
    "tags": []
   },
   "outputs": [
    {
     "data": {
      "text/html": [
       "<div>\n",
       "<style scoped>\n",
       "    .dataframe tbody tr th:only-of-type {\n",
       "        vertical-align: middle;\n",
       "    }\n",
       "\n",
       "    .dataframe tbody tr th {\n",
       "        vertical-align: top;\n",
       "    }\n",
       "\n",
       "    .dataframe thead th {\n",
       "        text-align: right;\n",
       "    }\n",
       "</style>\n",
       "<table border=\"1\" class=\"dataframe\">\n",
       "  <thead>\n",
       "    <tr style=\"text-align: right;\">\n",
       "      <th></th>\n",
       "      <th>timestamp</th>\n",
       "      <th>Asset_ID</th>\n",
       "      <th>Count</th>\n",
       "      <th>Open</th>\n",
       "      <th>High</th>\n",
       "      <th>Low</th>\n",
       "      <th>Close</th>\n",
       "      <th>Volume</th>\n",
       "      <th>VWAP</th>\n",
       "      <th>Target</th>\n",
       "    </tr>\n",
       "  </thead>\n",
       "  <tbody>\n",
       "    <tr>\n",
       "      <th>0</th>\n",
       "      <td>1514764860</td>\n",
       "      <td>2</td>\n",
       "      <td>40.0</td>\n",
       "      <td>2376.580000</td>\n",
       "      <td>2399.500000</td>\n",
       "      <td>2357.140000</td>\n",
       "      <td>2374.590000</td>\n",
       "      <td>1.923301e+01</td>\n",
       "      <td>2373.116392</td>\n",
       "      <td>-0.004218</td>\n",
       "    </tr>\n",
       "    <tr>\n",
       "      <th>1</th>\n",
       "      <td>1514764860</td>\n",
       "      <td>0</td>\n",
       "      <td>5.0</td>\n",
       "      <td>8.530000</td>\n",
       "      <td>8.530000</td>\n",
       "      <td>8.530000</td>\n",
       "      <td>8.530000</td>\n",
       "      <td>7.838000e+01</td>\n",
       "      <td>8.530000</td>\n",
       "      <td>-0.014399</td>\n",
       "    </tr>\n",
       "    <tr>\n",
       "      <th>2</th>\n",
       "      <td>1514764860</td>\n",
       "      <td>1</td>\n",
       "      <td>229.0</td>\n",
       "      <td>13835.194000</td>\n",
       "      <td>14013.800000</td>\n",
       "      <td>13666.110000</td>\n",
       "      <td>13850.176000</td>\n",
       "      <td>3.155006e+01</td>\n",
       "      <td>13827.062093</td>\n",
       "      <td>-0.014643</td>\n",
       "    </tr>\n",
       "    <tr>\n",
       "      <th>3</th>\n",
       "      <td>1514764860</td>\n",
       "      <td>5</td>\n",
       "      <td>32.0</td>\n",
       "      <td>7.659600</td>\n",
       "      <td>7.659600</td>\n",
       "      <td>7.656700</td>\n",
       "      <td>7.657600</td>\n",
       "      <td>6.626713e+03</td>\n",
       "      <td>7.657713</td>\n",
       "      <td>-0.013922</td>\n",
       "    </tr>\n",
       "    <tr>\n",
       "      <th>4</th>\n",
       "      <td>1514764860</td>\n",
       "      <td>7</td>\n",
       "      <td>5.0</td>\n",
       "      <td>25.920000</td>\n",
       "      <td>25.920000</td>\n",
       "      <td>25.874000</td>\n",
       "      <td>25.877000</td>\n",
       "      <td>1.210873e+02</td>\n",
       "      <td>25.891363</td>\n",
       "      <td>-0.008264</td>\n",
       "    </tr>\n",
       "    <tr>\n",
       "      <th>...</th>\n",
       "      <td>...</td>\n",
       "      <td>...</td>\n",
       "      <td>...</td>\n",
       "      <td>...</td>\n",
       "      <td>...</td>\n",
       "      <td>...</td>\n",
       "      <td>...</td>\n",
       "      <td>...</td>\n",
       "      <td>...</td>\n",
       "      <td>...</td>\n",
       "    </tr>\n",
       "    <tr>\n",
       "      <th>24236801</th>\n",
       "      <td>1632182400</td>\n",
       "      <td>9</td>\n",
       "      <td>775.0</td>\n",
       "      <td>157.181571</td>\n",
       "      <td>157.250000</td>\n",
       "      <td>156.700000</td>\n",
       "      <td>156.943857</td>\n",
       "      <td>4.663725e+03</td>\n",
       "      <td>156.994319</td>\n",
       "      <td>NaN</td>\n",
       "    </tr>\n",
       "    <tr>\n",
       "      <th>24236802</th>\n",
       "      <td>1632182400</td>\n",
       "      <td>10</td>\n",
       "      <td>34.0</td>\n",
       "      <td>2437.065067</td>\n",
       "      <td>2438.000000</td>\n",
       "      <td>2430.226900</td>\n",
       "      <td>2432.907467</td>\n",
       "      <td>3.975460e+00</td>\n",
       "      <td>2434.818747</td>\n",
       "      <td>NaN</td>\n",
       "    </tr>\n",
       "    <tr>\n",
       "      <th>24236803</th>\n",
       "      <td>1632182400</td>\n",
       "      <td>13</td>\n",
       "      <td>380.0</td>\n",
       "      <td>0.091390</td>\n",
       "      <td>0.091527</td>\n",
       "      <td>0.091260</td>\n",
       "      <td>0.091349</td>\n",
       "      <td>2.193732e+06</td>\n",
       "      <td>0.091388</td>\n",
       "      <td>NaN</td>\n",
       "    </tr>\n",
       "    <tr>\n",
       "      <th>24236804</th>\n",
       "      <td>1632182400</td>\n",
       "      <td>12</td>\n",
       "      <td>177.0</td>\n",
       "      <td>0.282168</td>\n",
       "      <td>0.282438</td>\n",
       "      <td>0.281842</td>\n",
       "      <td>0.282051</td>\n",
       "      <td>1.828508e+05</td>\n",
       "      <td>0.282134</td>\n",
       "      <td>NaN</td>\n",
       "    </tr>\n",
       "    <tr>\n",
       "      <th>24236805</th>\n",
       "      <td>1632182400</td>\n",
       "      <td>11</td>\n",
       "      <td>48.0</td>\n",
       "      <td>232.695000</td>\n",
       "      <td>232.800000</td>\n",
       "      <td>232.240000</td>\n",
       "      <td>232.275000</td>\n",
       "      <td>1.035123e+02</td>\n",
       "      <td>232.569697</td>\n",
       "      <td>NaN</td>\n",
       "    </tr>\n",
       "  </tbody>\n",
       "</table>\n",
       "<p>24236806 rows × 10 columns</p>\n",
       "</div>"
      ],
      "text/plain": [
       "           timestamp  Asset_ID  Count          Open          High  \\\n",
       "0         1514764860         2   40.0   2376.580000   2399.500000   \n",
       "1         1514764860         0    5.0      8.530000      8.530000   \n",
       "2         1514764860         1  229.0  13835.194000  14013.800000   \n",
       "3         1514764860         5   32.0      7.659600      7.659600   \n",
       "4         1514764860         7    5.0     25.920000     25.920000   \n",
       "...              ...       ...    ...           ...           ...   \n",
       "24236801  1632182400         9  775.0    157.181571    157.250000   \n",
       "24236802  1632182400        10   34.0   2437.065067   2438.000000   \n",
       "24236803  1632182400        13  380.0      0.091390      0.091527   \n",
       "24236804  1632182400        12  177.0      0.282168      0.282438   \n",
       "24236805  1632182400        11   48.0    232.695000    232.800000   \n",
       "\n",
       "                   Low         Close        Volume          VWAP    Target  \n",
       "0          2357.140000   2374.590000  1.923301e+01   2373.116392 -0.004218  \n",
       "1             8.530000      8.530000  7.838000e+01      8.530000 -0.014399  \n",
       "2         13666.110000  13850.176000  3.155006e+01  13827.062093 -0.014643  \n",
       "3             7.656700      7.657600  6.626713e+03      7.657713 -0.013922  \n",
       "4            25.874000     25.877000  1.210873e+02     25.891363 -0.008264  \n",
       "...                ...           ...           ...           ...       ...  \n",
       "24236801    156.700000    156.943857  4.663725e+03    156.994319       NaN  \n",
       "24236802   2430.226900   2432.907467  3.975460e+00   2434.818747       NaN  \n",
       "24236803      0.091260      0.091349  2.193732e+06      0.091388       NaN  \n",
       "24236804      0.281842      0.282051  1.828508e+05      0.282134       NaN  \n",
       "24236805    232.240000    232.275000  1.035123e+02    232.569697       NaN  \n",
       "\n",
       "[24236806 rows x 10 columns]"
      ]
     },
     "execution_count": 4,
     "metadata": {},
     "output_type": "execute_result"
    }
   ],
   "source": [
    "train"
   ]
  },
  {
   "cell_type": "code",
   "execution_count": 5,
   "id": "a2be9373",
   "metadata": {
    "execution": {
     "iopub.execute_input": "2022-01-27T07:39:27.970520Z",
     "iopub.status.busy": "2022-01-27T07:39:27.965048Z",
     "iopub.status.idle": "2022-01-27T07:39:28.004445Z",
     "shell.execute_reply": "2022-01-27T07:39:28.003703Z",
     "shell.execute_reply.started": "2022-01-27T07:37:03.126093Z"
    },
    "papermill": {
     "duration": 0.074735,
     "end_time": "2022-01-27T07:39:28.004605",
     "exception": false,
     "start_time": "2022-01-27T07:39:27.929870",
     "status": "completed"
    },
    "tags": []
   },
   "outputs": [
    {
     "data": {
      "text/html": [
       "<div>\n",
       "<style scoped>\n",
       "    .dataframe tbody tr th:only-of-type {\n",
       "        vertical-align: middle;\n",
       "    }\n",
       "\n",
       "    .dataframe tbody tr th {\n",
       "        vertical-align: top;\n",
       "    }\n",
       "\n",
       "    .dataframe thead th {\n",
       "        text-align: right;\n",
       "    }\n",
       "</style>\n",
       "<table border=\"1\" class=\"dataframe\">\n",
       "  <thead>\n",
       "    <tr style=\"text-align: right;\">\n",
       "      <th></th>\n",
       "      <th>timestamp</th>\n",
       "      <th>Asset_ID</th>\n",
       "      <th>Count</th>\n",
       "      <th>Open</th>\n",
       "      <th>High</th>\n",
       "      <th>Low</th>\n",
       "      <th>Close</th>\n",
       "      <th>Volume</th>\n",
       "      <th>VWAP</th>\n",
       "      <th>Target</th>\n",
       "    </tr>\n",
       "  </thead>\n",
       "  <tbody>\n",
       "    <tr>\n",
       "      <th>0</th>\n",
       "      <td>1632182460</td>\n",
       "      <td>3</td>\n",
       "      <td>561.0</td>\n",
       "      <td>2.079028</td>\n",
       "      <td>2.080605</td>\n",
       "      <td>2.072000</td>\n",
       "      <td>2.076458</td>\n",
       "      <td>2.804627e+05</td>\n",
       "      <td>2.075869</td>\n",
       "      <td>0.003085</td>\n",
       "    </tr>\n",
       "    <tr>\n",
       "      <th>1</th>\n",
       "      <td>1632182460</td>\n",
       "      <td>2</td>\n",
       "      <td>169.0</td>\n",
       "      <td>541.006000</td>\n",
       "      <td>541.200000</td>\n",
       "      <td>539.700000</td>\n",
       "      <td>540.722000</td>\n",
       "      <td>1.889432e+02</td>\n",
       "      <td>540.716930</td>\n",
       "      <td>-0.000607</td>\n",
       "    </tr>\n",
       "    <tr>\n",
       "      <th>2</th>\n",
       "      <td>1632182460</td>\n",
       "      <td>0</td>\n",
       "      <td>400.0</td>\n",
       "      <td>363.737500</td>\n",
       "      <td>363.900000</td>\n",
       "      <td>363.000000</td>\n",
       "      <td>363.654000</td>\n",
       "      <td>8.792685e+02</td>\n",
       "      <td>363.499554</td>\n",
       "      <td>-0.019375</td>\n",
       "    </tr>\n",
       "    <tr>\n",
       "      <th>3</th>\n",
       "      <td>1632182460</td>\n",
       "      <td>1</td>\n",
       "      <td>1933.0</td>\n",
       "      <td>42986.143333</td>\n",
       "      <td>43001.000000</td>\n",
       "      <td>42898.000000</td>\n",
       "      <td>42947.065566</td>\n",
       "      <td>9.183861e+01</td>\n",
       "      <td>42942.976718</td>\n",
       "      <td>-0.000374</td>\n",
       "    </tr>\n",
       "    <tr>\n",
       "      <th>4</th>\n",
       "      <td>1632182460</td>\n",
       "      <td>4</td>\n",
       "      <td>348.0</td>\n",
       "      <td>0.208326</td>\n",
       "      <td>0.208400</td>\n",
       "      <td>0.207800</td>\n",
       "      <td>0.208200</td>\n",
       "      <td>1.051337e+06</td>\n",
       "      <td>0.208077</td>\n",
       "      <td>-0.001233</td>\n",
       "    </tr>\n",
       "    <tr>\n",
       "      <th>...</th>\n",
       "      <td>...</td>\n",
       "      <td>...</td>\n",
       "      <td>...</td>\n",
       "      <td>...</td>\n",
       "      <td>...</td>\n",
       "      <td>...</td>\n",
       "      <td>...</td>\n",
       "      <td>...</td>\n",
       "      <td>...</td>\n",
       "      <td>...</td>\n",
       "    </tr>\n",
       "    <tr>\n",
       "      <th>2518273</th>\n",
       "      <td>1642982400</td>\n",
       "      <td>9</td>\n",
       "      <td>214.0</td>\n",
       "      <td>112.293000</td>\n",
       "      <td>112.470000</td>\n",
       "      <td>111.840000</td>\n",
       "      <td>111.983333</td>\n",
       "      <td>1.243860e+03</td>\n",
       "      <td>112.127619</td>\n",
       "      <td>NaN</td>\n",
       "    </tr>\n",
       "    <tr>\n",
       "      <th>2518274</th>\n",
       "      <td>1642982400</td>\n",
       "      <td>10</td>\n",
       "      <td>25.0</td>\n",
       "      <td>1833.565000</td>\n",
       "      <td>1834.700000</td>\n",
       "      <td>1831.050000</td>\n",
       "      <td>1833.018333</td>\n",
       "      <td>4.190290e+00</td>\n",
       "      <td>1833.173692</td>\n",
       "      <td>NaN</td>\n",
       "    </tr>\n",
       "    <tr>\n",
       "      <th>2518275</th>\n",
       "      <td>1642982400</td>\n",
       "      <td>13</td>\n",
       "      <td>235.0</td>\n",
       "      <td>0.057520</td>\n",
       "      <td>0.057618</td>\n",
       "      <td>0.057389</td>\n",
       "      <td>0.057478</td>\n",
       "      <td>8.988253e+05</td>\n",
       "      <td>0.057519</td>\n",
       "      <td>NaN</td>\n",
       "    </tr>\n",
       "    <tr>\n",
       "      <th>2518276</th>\n",
       "      <td>1642982400</td>\n",
       "      <td>12</td>\n",
       "      <td>492.0</td>\n",
       "      <td>0.200940</td>\n",
       "      <td>0.201066</td>\n",
       "      <td>0.199352</td>\n",
       "      <td>0.200093</td>\n",
       "      <td>2.983796e+06</td>\n",
       "      <td>0.200413</td>\n",
       "      <td>NaN</td>\n",
       "    </tr>\n",
       "    <tr>\n",
       "      <th>2518277</th>\n",
       "      <td>1642982400</td>\n",
       "      <td>11</td>\n",
       "      <td>40.0</td>\n",
       "      <td>156.764000</td>\n",
       "      <td>156.930000</td>\n",
       "      <td>156.200000</td>\n",
       "      <td>156.550000</td>\n",
       "      <td>7.439747e+01</td>\n",
       "      <td>156.638720</td>\n",
       "      <td>NaN</td>\n",
       "    </tr>\n",
       "  </tbody>\n",
       "</table>\n",
       "<p>2518278 rows × 10 columns</p>\n",
       "</div>"
      ],
      "text/plain": [
       "          timestamp  Asset_ID   Count          Open          High  \\\n",
       "0        1632182460         3   561.0      2.079028      2.080605   \n",
       "1        1632182460         2   169.0    541.006000    541.200000   \n",
       "2        1632182460         0   400.0    363.737500    363.900000   \n",
       "3        1632182460         1  1933.0  42986.143333  43001.000000   \n",
       "4        1632182460         4   348.0      0.208326      0.208400   \n",
       "...             ...       ...     ...           ...           ...   \n",
       "2518273  1642982400         9   214.0    112.293000    112.470000   \n",
       "2518274  1642982400        10    25.0   1833.565000   1834.700000   \n",
       "2518275  1642982400        13   235.0      0.057520      0.057618   \n",
       "2518276  1642982400        12   492.0      0.200940      0.201066   \n",
       "2518277  1642982400        11    40.0    156.764000    156.930000   \n",
       "\n",
       "                  Low         Close        Volume          VWAP    Target  \n",
       "0            2.072000      2.076458  2.804627e+05      2.075869  0.003085  \n",
       "1          539.700000    540.722000  1.889432e+02    540.716930 -0.000607  \n",
       "2          363.000000    363.654000  8.792685e+02    363.499554 -0.019375  \n",
       "3        42898.000000  42947.065566  9.183861e+01  42942.976718 -0.000374  \n",
       "4            0.207800      0.208200  1.051337e+06      0.208077 -0.001233  \n",
       "...               ...           ...           ...           ...       ...  \n",
       "2518273    111.840000    111.983333  1.243860e+03    112.127619       NaN  \n",
       "2518274   1831.050000   1833.018333  4.190290e+00   1833.173692       NaN  \n",
       "2518275      0.057389      0.057478  8.988253e+05      0.057519       NaN  \n",
       "2518276      0.199352      0.200093  2.983796e+06      0.200413       NaN  \n",
       "2518277    156.200000    156.550000  7.439747e+01    156.638720       NaN  \n",
       "\n",
       "[2518278 rows x 10 columns]"
      ]
     },
     "execution_count": 5,
     "metadata": {},
     "output_type": "execute_result"
    }
   ],
   "source": [
    "supplemental_train"
   ]
  },
  {
   "cell_type": "code",
   "execution_count": 6,
   "id": "e9bcf414",
   "metadata": {
    "execution": {
     "iopub.execute_input": "2022-01-27T07:39:28.057189Z",
     "iopub.status.busy": "2022-01-27T07:39:28.056323Z",
     "iopub.status.idle": "2022-01-27T07:39:32.218490Z",
     "shell.execute_reply": "2022-01-27T07:39:32.219041Z",
     "shell.execute_reply.started": "2022-01-27T07:37:03.149356Z"
    },
    "papermill": {
     "duration": 4.190078,
     "end_time": "2022-01-27T07:39:32.219353",
     "exception": false,
     "start_time": "2022-01-27T07:39:28.029275",
     "status": "completed"
    },
    "tags": []
   },
   "outputs": [
    {
     "data": {
      "text/plain": [
       "72"
      ]
     },
     "execution_count": 6,
     "metadata": {},
     "output_type": "execute_result"
    }
   ],
   "source": [
    "import gc\n",
    "train = pd.concat([train,supplemental_train]).reset_index(drop=False)\n",
    "del supplemental_train; gc.collect()"
   ]
  },
  {
   "cell_type": "code",
   "execution_count": 7,
   "id": "33e17b17",
   "metadata": {
    "execution": {
     "iopub.execute_input": "2022-01-27T07:39:32.280413Z",
     "iopub.status.busy": "2022-01-27T07:39:32.279304Z",
     "iopub.status.idle": "2022-01-27T07:39:32.294659Z",
     "shell.execute_reply": "2022-01-27T07:39:32.295261Z",
     "shell.execute_reply.started": "2022-01-27T07:37:05.453711Z"
    },
    "papermill": {
     "duration": 0.0514,
     "end_time": "2022-01-27T07:39:32.295441",
     "exception": false,
     "start_time": "2022-01-27T07:39:32.244041",
     "status": "completed"
    },
    "tags": []
   },
   "outputs": [
    {
     "data": {
      "text/html": [
       "<div>\n",
       "<style scoped>\n",
       "    .dataframe tbody tr th:only-of-type {\n",
       "        vertical-align: middle;\n",
       "    }\n",
       "\n",
       "    .dataframe tbody tr th {\n",
       "        vertical-align: top;\n",
       "    }\n",
       "\n",
       "    .dataframe thead th {\n",
       "        text-align: right;\n",
       "    }\n",
       "</style>\n",
       "<table border=\"1\" class=\"dataframe\">\n",
       "  <thead>\n",
       "    <tr style=\"text-align: right;\">\n",
       "      <th></th>\n",
       "      <th>index</th>\n",
       "      <th>timestamp</th>\n",
       "      <th>Asset_ID</th>\n",
       "      <th>Count</th>\n",
       "      <th>Open</th>\n",
       "      <th>High</th>\n",
       "      <th>Low</th>\n",
       "      <th>Close</th>\n",
       "      <th>Volume</th>\n",
       "      <th>VWAP</th>\n",
       "      <th>Target</th>\n",
       "    </tr>\n",
       "  </thead>\n",
       "  <tbody>\n",
       "    <tr>\n",
       "      <th>0</th>\n",
       "      <td>0</td>\n",
       "      <td>1514764860</td>\n",
       "      <td>2</td>\n",
       "      <td>40.0</td>\n",
       "      <td>2376.58000</td>\n",
       "      <td>2399.500000</td>\n",
       "      <td>2357.140000</td>\n",
       "      <td>2374.590000</td>\n",
       "      <td>1.923301e+01</td>\n",
       "      <td>2373.116392</td>\n",
       "      <td>-0.004218</td>\n",
       "    </tr>\n",
       "    <tr>\n",
       "      <th>1</th>\n",
       "      <td>1</td>\n",
       "      <td>1514764860</td>\n",
       "      <td>0</td>\n",
       "      <td>5.0</td>\n",
       "      <td>8.53000</td>\n",
       "      <td>8.530000</td>\n",
       "      <td>8.530000</td>\n",
       "      <td>8.530000</td>\n",
       "      <td>7.838000e+01</td>\n",
       "      <td>8.530000</td>\n",
       "      <td>-0.014399</td>\n",
       "    </tr>\n",
       "    <tr>\n",
       "      <th>2</th>\n",
       "      <td>2</td>\n",
       "      <td>1514764860</td>\n",
       "      <td>1</td>\n",
       "      <td>229.0</td>\n",
       "      <td>13835.19400</td>\n",
       "      <td>14013.800000</td>\n",
       "      <td>13666.110000</td>\n",
       "      <td>13850.176000</td>\n",
       "      <td>3.155006e+01</td>\n",
       "      <td>13827.062093</td>\n",
       "      <td>-0.014643</td>\n",
       "    </tr>\n",
       "    <tr>\n",
       "      <th>3</th>\n",
       "      <td>3</td>\n",
       "      <td>1514764860</td>\n",
       "      <td>5</td>\n",
       "      <td>32.0</td>\n",
       "      <td>7.65960</td>\n",
       "      <td>7.659600</td>\n",
       "      <td>7.656700</td>\n",
       "      <td>7.657600</td>\n",
       "      <td>6.626713e+03</td>\n",
       "      <td>7.657713</td>\n",
       "      <td>-0.013922</td>\n",
       "    </tr>\n",
       "    <tr>\n",
       "      <th>4</th>\n",
       "      <td>4</td>\n",
       "      <td>1514764860</td>\n",
       "      <td>7</td>\n",
       "      <td>5.0</td>\n",
       "      <td>25.92000</td>\n",
       "      <td>25.920000</td>\n",
       "      <td>25.874000</td>\n",
       "      <td>25.877000</td>\n",
       "      <td>1.210873e+02</td>\n",
       "      <td>25.891363</td>\n",
       "      <td>-0.008264</td>\n",
       "    </tr>\n",
       "    <tr>\n",
       "      <th>...</th>\n",
       "      <td>...</td>\n",
       "      <td>...</td>\n",
       "      <td>...</td>\n",
       "      <td>...</td>\n",
       "      <td>...</td>\n",
       "      <td>...</td>\n",
       "      <td>...</td>\n",
       "      <td>...</td>\n",
       "      <td>...</td>\n",
       "      <td>...</td>\n",
       "      <td>...</td>\n",
       "    </tr>\n",
       "    <tr>\n",
       "      <th>26755079</th>\n",
       "      <td>2518273</td>\n",
       "      <td>1642982400</td>\n",
       "      <td>9</td>\n",
       "      <td>214.0</td>\n",
       "      <td>112.29300</td>\n",
       "      <td>112.470000</td>\n",
       "      <td>111.840000</td>\n",
       "      <td>111.983333</td>\n",
       "      <td>1.243860e+03</td>\n",
       "      <td>112.127619</td>\n",
       "      <td>NaN</td>\n",
       "    </tr>\n",
       "    <tr>\n",
       "      <th>26755080</th>\n",
       "      <td>2518274</td>\n",
       "      <td>1642982400</td>\n",
       "      <td>10</td>\n",
       "      <td>25.0</td>\n",
       "      <td>1833.56500</td>\n",
       "      <td>1834.700000</td>\n",
       "      <td>1831.050000</td>\n",
       "      <td>1833.018333</td>\n",
       "      <td>4.190290e+00</td>\n",
       "      <td>1833.173692</td>\n",
       "      <td>NaN</td>\n",
       "    </tr>\n",
       "    <tr>\n",
       "      <th>26755081</th>\n",
       "      <td>2518275</td>\n",
       "      <td>1642982400</td>\n",
       "      <td>13</td>\n",
       "      <td>235.0</td>\n",
       "      <td>0.05752</td>\n",
       "      <td>0.057618</td>\n",
       "      <td>0.057389</td>\n",
       "      <td>0.057478</td>\n",
       "      <td>8.988253e+05</td>\n",
       "      <td>0.057519</td>\n",
       "      <td>NaN</td>\n",
       "    </tr>\n",
       "    <tr>\n",
       "      <th>26755082</th>\n",
       "      <td>2518276</td>\n",
       "      <td>1642982400</td>\n",
       "      <td>12</td>\n",
       "      <td>492.0</td>\n",
       "      <td>0.20094</td>\n",
       "      <td>0.201066</td>\n",
       "      <td>0.199352</td>\n",
       "      <td>0.200093</td>\n",
       "      <td>2.983796e+06</td>\n",
       "      <td>0.200413</td>\n",
       "      <td>NaN</td>\n",
       "    </tr>\n",
       "    <tr>\n",
       "      <th>26755083</th>\n",
       "      <td>2518277</td>\n",
       "      <td>1642982400</td>\n",
       "      <td>11</td>\n",
       "      <td>40.0</td>\n",
       "      <td>156.76400</td>\n",
       "      <td>156.930000</td>\n",
       "      <td>156.200000</td>\n",
       "      <td>156.550000</td>\n",
       "      <td>7.439747e+01</td>\n",
       "      <td>156.638720</td>\n",
       "      <td>NaN</td>\n",
       "    </tr>\n",
       "  </tbody>\n",
       "</table>\n",
       "<p>26755084 rows × 11 columns</p>\n",
       "</div>"
      ],
      "text/plain": [
       "            index   timestamp  Asset_ID  Count         Open          High  \\\n",
       "0               0  1514764860         2   40.0   2376.58000   2399.500000   \n",
       "1               1  1514764860         0    5.0      8.53000      8.530000   \n",
       "2               2  1514764860         1  229.0  13835.19400  14013.800000   \n",
       "3               3  1514764860         5   32.0      7.65960      7.659600   \n",
       "4               4  1514764860         7    5.0     25.92000     25.920000   \n",
       "...           ...         ...       ...    ...          ...           ...   \n",
       "26755079  2518273  1642982400         9  214.0    112.29300    112.470000   \n",
       "26755080  2518274  1642982400        10   25.0   1833.56500   1834.700000   \n",
       "26755081  2518275  1642982400        13  235.0      0.05752      0.057618   \n",
       "26755082  2518276  1642982400        12  492.0      0.20094      0.201066   \n",
       "26755083  2518277  1642982400        11   40.0    156.76400    156.930000   \n",
       "\n",
       "                   Low         Close        Volume          VWAP    Target  \n",
       "0          2357.140000   2374.590000  1.923301e+01   2373.116392 -0.004218  \n",
       "1             8.530000      8.530000  7.838000e+01      8.530000 -0.014399  \n",
       "2         13666.110000  13850.176000  3.155006e+01  13827.062093 -0.014643  \n",
       "3             7.656700      7.657600  6.626713e+03      7.657713 -0.013922  \n",
       "4            25.874000     25.877000  1.210873e+02     25.891363 -0.008264  \n",
       "...                ...           ...           ...           ...       ...  \n",
       "26755079    111.840000    111.983333  1.243860e+03    112.127619       NaN  \n",
       "26755080   1831.050000   1833.018333  4.190290e+00   1833.173692       NaN  \n",
       "26755081      0.057389      0.057478  8.988253e+05      0.057519       NaN  \n",
       "26755082      0.199352      0.200093  2.983796e+06      0.200413       NaN  \n",
       "26755083    156.200000    156.550000  7.439747e+01    156.638720       NaN  \n",
       "\n",
       "[26755084 rows x 11 columns]"
      ]
     },
     "execution_count": 7,
     "metadata": {},
     "output_type": "execute_result"
    }
   ],
   "source": [
    "train"
   ]
  },
  {
   "cell_type": "code",
   "execution_count": 8,
   "id": "64a69458",
   "metadata": {
    "execution": {
     "iopub.execute_input": "2022-01-27T07:39:32.348264Z",
     "iopub.status.busy": "2022-01-27T07:39:32.347451Z",
     "iopub.status.idle": "2022-01-27T07:39:34.406740Z",
     "shell.execute_reply": "2022-01-27T07:39:34.405978Z",
     "shell.execute_reply.started": "2022-01-27T07:37:05.477430Z"
    },
    "papermill": {
     "duration": 2.090627,
     "end_time": "2022-01-27T07:39:34.406919",
     "exception": false,
     "start_time": "2022-01-27T07:39:32.316292",
     "status": "completed"
    },
    "tags": []
   },
   "outputs": [],
   "source": [
    "time = pd.to_datetime(train['timestamp'],unit='s')"
   ]
  },
  {
   "cell_type": "code",
   "execution_count": 9,
   "id": "ae926c64",
   "metadata": {
    "execution": {
     "iopub.execute_input": "2022-01-27T07:39:34.451365Z",
     "iopub.status.busy": "2022-01-27T07:39:34.448324Z",
     "iopub.status.idle": "2022-01-27T07:39:39.483587Z",
     "shell.execute_reply": "2022-01-27T07:39:39.483008Z",
     "shell.execute_reply.started": "2022-01-27T07:37:07.276876Z"
    },
    "papermill": {
     "duration": 5.057534,
     "end_time": "2022-01-27T07:39:39.483739",
     "exception": false,
     "start_time": "2022-01-27T07:39:34.426205",
     "status": "completed"
    },
    "tags": []
   },
   "outputs": [],
   "source": [
    "time = time.dt.hour * 60 + time.dt.minute"
   ]
  },
  {
   "cell_type": "code",
   "execution_count": 10,
   "id": "bbaae9d5",
   "metadata": {
    "execution": {
     "iopub.execute_input": "2022-01-27T07:39:39.528354Z",
     "iopub.status.busy": "2022-01-27T07:39:39.525453Z",
     "iopub.status.idle": "2022-01-27T07:39:39.564003Z",
     "shell.execute_reply": "2022-01-27T07:39:39.563452Z",
     "shell.execute_reply.started": "2022-01-27T07:37:12.197814Z"
    },
    "papermill": {
     "duration": 0.060729,
     "end_time": "2022-01-27T07:39:39.564149",
     "exception": false,
     "start_time": "2022-01-27T07:39:39.503420",
     "status": "completed"
    },
    "tags": []
   },
   "outputs": [
    {
     "data": {
      "text/plain": [
       "1439"
      ]
     },
     "execution_count": 10,
     "metadata": {},
     "output_type": "execute_result"
    }
   ],
   "source": [
    "time.max()"
   ]
  },
  {
   "cell_type": "code",
   "execution_count": 11,
   "id": "8314468c",
   "metadata": {
    "execution": {
     "iopub.execute_input": "2022-01-27T07:39:39.620753Z",
     "iopub.status.busy": "2022-01-27T07:39:39.619361Z",
     "iopub.status.idle": "2022-01-27T07:39:40.989673Z",
     "shell.execute_reply": "2022-01-27T07:39:40.989061Z",
     "shell.execute_reply.started": "2022-01-27T07:37:12.238340Z"
    },
    "papermill": {
     "duration": 1.406524,
     "end_time": "2022-01-27T07:39:40.989836",
     "exception": false,
     "start_time": "2022-01-27T07:39:39.583312",
     "status": "completed"
    },
    "tags": []
   },
   "outputs": [],
   "source": [
    "train['time_sin'] = np.sin(2*np.pi*time/1440)\n",
    "train['time_cos'] = np.cos(2*np.pi*time/1440)"
   ]
  },
  {
   "cell_type": "code",
   "execution_count": 12,
   "id": "e59790db",
   "metadata": {
    "execution": {
     "iopub.execute_input": "2022-01-27T07:39:41.033674Z",
     "iopub.status.busy": "2022-01-27T07:39:41.032815Z",
     "iopub.status.idle": "2022-01-27T07:39:41.035335Z",
     "shell.execute_reply": "2022-01-27T07:39:41.035803Z",
     "shell.execute_reply.started": "2022-01-27T07:37:27.587282Z"
    },
    "papermill": {
     "duration": 0.026661,
     "end_time": "2022-01-27T07:39:41.035980",
     "exception": false,
     "start_time": "2022-01-27T07:39:41.009319",
     "status": "completed"
    },
    "tags": []
   },
   "outputs": [],
   "source": [
    "# train['Target'] = train['Target'].fillna(0)"
   ]
  },
  {
   "cell_type": "code",
   "execution_count": 13,
   "id": "d5305ed5",
   "metadata": {
    "execution": {
     "iopub.execute_input": "2022-01-27T07:39:41.077774Z",
     "iopub.status.busy": "2022-01-27T07:39:41.077075Z",
     "iopub.status.idle": "2022-01-27T07:39:41.129589Z",
     "shell.execute_reply": "2022-01-27T07:39:41.128915Z",
     "shell.execute_reply.started": "2022-01-27T07:37:28.327572Z"
    },
    "papermill": {
     "duration": 0.074398,
     "end_time": "2022-01-27T07:39:41.129738",
     "exception": false,
     "start_time": "2022-01-27T07:39:41.055340",
     "status": "completed"
    },
    "tags": []
   },
   "outputs": [
    {
     "data": {
      "text/plain": [
       "0.028153938892511044"
      ]
     },
     "execution_count": 13,
     "metadata": {},
     "output_type": "execute_result"
    }
   ],
   "source": [
    "train['Target'].isnull().mean()"
   ]
  },
  {
   "cell_type": "code",
   "execution_count": 14,
   "id": "45d507e3",
   "metadata": {
    "execution": {
     "iopub.execute_input": "2022-01-27T07:39:41.175485Z",
     "iopub.status.busy": "2022-01-27T07:39:41.173033Z",
     "iopub.status.idle": "2022-01-27T07:39:41.179759Z",
     "shell.execute_reply": "2022-01-27T07:39:41.179217Z",
     "shell.execute_reply.started": "2022-01-27T07:37:29.959378Z"
    },
    "papermill": {
     "duration": 0.030566,
     "end_time": "2022-01-27T07:39:41.179920",
     "exception": false,
     "start_time": "2022-01-27T07:39:41.149354",
     "status": "completed"
    },
    "tags": []
   },
   "outputs": [
    {
     "data": {
      "text/plain": [
       "Index(['index', 'timestamp', 'Asset_ID', 'Count', 'Open', 'High', 'Low',\n",
       "       'Close', 'Volume', 'VWAP', 'Target', 'time_sin', 'time_cos'],\n",
       "      dtype='object')"
      ]
     },
     "execution_count": 14,
     "metadata": {},
     "output_type": "execute_result"
    }
   ],
   "source": [
    "train.columns"
   ]
  },
  {
   "cell_type": "code",
   "execution_count": 15,
   "id": "5826a095",
   "metadata": {
    "execution": {
     "iopub.execute_input": "2022-01-27T07:39:41.225529Z",
     "iopub.status.busy": "2022-01-27T07:39:41.224753Z",
     "iopub.status.idle": "2022-01-27T07:39:41.226284Z",
     "shell.execute_reply": "2022-01-27T07:39:41.226759Z",
     "shell.execute_reply.started": "2022-01-27T07:37:30.481460Z"
    },
    "papermill": {
     "duration": 0.027057,
     "end_time": "2022-01-27T07:39:41.226942",
     "exception": false,
     "start_time": "2022-01-27T07:39:41.199885",
     "status": "completed"
    },
    "tags": []
   },
   "outputs": [],
   "source": [
    "features = ['Asset_ID','Count', 'Open', 'High', 'Low', 'Close',\n",
    "           'Volume', 'VWAP','time_sin','time_cos']"
   ]
  },
  {
   "cell_type": "code",
   "execution_count": 16,
   "id": "0e458458",
   "metadata": {
    "execution": {
     "iopub.execute_input": "2022-01-27T07:39:41.285170Z",
     "iopub.status.busy": "2022-01-27T07:39:41.283649Z",
     "iopub.status.idle": "2022-01-27T07:39:41.825263Z",
     "shell.execute_reply": "2022-01-27T07:39:41.824639Z",
     "shell.execute_reply.started": "2022-01-27T07:37:31.504928Z"
    },
    "papermill": {
     "duration": 0.578547,
     "end_time": "2022-01-27T07:39:41.825416",
     "exception": false,
     "start_time": "2022-01-27T07:39:41.246869",
     "status": "completed"
    },
    "tags": []
   },
   "outputs": [],
   "source": [
    "train['timestamp'] = (train['timestamp']-1514764860)//60"
   ]
  },
  {
   "cell_type": "code",
   "execution_count": 17,
   "id": "b8c5e4d1",
   "metadata": {
    "execution": {
     "iopub.execute_input": "2022-01-27T07:39:41.871509Z",
     "iopub.status.busy": "2022-01-27T07:39:41.870493Z",
     "iopub.status.idle": "2022-01-27T07:39:42.054466Z",
     "shell.execute_reply": "2022-01-27T07:39:42.053924Z",
     "shell.execute_reply.started": "2022-01-27T07:37:32.392018Z"
    },
    "papermill": {
     "duration": 0.209141,
     "end_time": "2022-01-27T07:39:42.054601",
     "exception": false,
     "start_time": "2022-01-27T07:39:41.845460",
     "status": "completed"
    },
    "tags": []
   },
   "outputs": [
    {
     "data": {
      "text/plain": [
       "(2136959, 14, 10)"
      ]
     },
     "execution_count": 17,
     "metadata": {},
     "output_type": "execute_result"
    }
   ],
   "source": [
    "train['timestamp'].max(), train['Asset_ID'].nunique(),len(features)"
   ]
  },
  {
   "cell_type": "code",
   "execution_count": 18,
   "id": "015c6bbf",
   "metadata": {
    "execution": {
     "iopub.execute_input": "2022-01-27T07:39:42.103585Z",
     "iopub.status.busy": "2022-01-27T07:39:42.102168Z",
     "iopub.status.idle": "2022-01-27T11:53:26.961488Z",
     "shell.execute_reply": "2022-01-27T11:53:26.962650Z"
    },
    "papermill": {
     "duration": 15224.88883,
     "end_time": "2022-01-27T11:53:26.963610",
     "exception": false,
     "start_time": "2022-01-27T07:39:42.074780",
     "status": "completed"
    },
    "tags": []
   },
   "outputs": [
    {
     "data": {
      "application/vnd.jupyter.widget-view+json": {
       "model_id": "960d3dced96a4e999162205e791ea526",
       "version_major": 2,
       "version_minor": 0
      },
      "text/plain": [
       "  0%|          | 0/2136960 [00:00<?, ?it/s]"
      ]
     },
     "metadata": {},
     "output_type": "display_data"
    }
   ],
   "source": [
    "X = np.zeros([2136960,14,10])\n",
    "y = np.full([2136960,14],np.nan)\n",
    "for i, (t, df) in tqdm(enumerate(train.groupby('timestamp')),total=2136960):\n",
    "    for _, row in df.iterrows():\n",
    "        aid = int(row['Asset_ID'])\n",
    "        X[t,aid] = row[features]\n",
    "        y[t,aid] = row['Target']"
   ]
  },
  {
   "cell_type": "code",
   "execution_count": 19,
   "id": "ea7e7b1a",
   "metadata": {
    "execution": {
     "iopub.execute_input": "2022-01-27T11:53:27.024192Z",
     "iopub.status.busy": "2022-01-27T11:53:27.023417Z",
     "iopub.status.idle": "2022-01-27T11:53:40.537741Z",
     "shell.execute_reply": "2022-01-27T11:53:40.536977Z"
    },
    "papermill": {
     "duration": 13.551821,
     "end_time": "2022-01-27T11:53:40.537945",
     "exception": false,
     "start_time": "2022-01-27T11:53:26.986124",
     "status": "completed"
    },
    "tags": []
   },
   "outputs": [],
   "source": [
    "np.save(\"crypto_X\",X)\n",
    "np.save(\"crypto_y\",y)"
   ]
  },
  {
   "cell_type": "code",
   "execution_count": null,
   "id": "6a13a588",
   "metadata": {
    "papermill": {
     "duration": 0.144827,
     "end_time": "2022-01-27T11:53:40.778048",
     "exception": false,
     "start_time": "2022-01-27T11:53:40.633221",
     "status": "completed"
    },
    "tags": []
   },
   "outputs": [],
   "source": []
  }
 ],
 "metadata": {
  "kernelspec": {
   "display_name": "Python 3",
   "language": "python",
   "name": "python3"
  },
  "language_info": {
   "codemirror_mode": {
    "name": "ipython",
    "version": 3
   },
   "file_extension": ".py",
   "mimetype": "text/x-python",
   "name": "python",
   "nbconvert_exporter": "python",
   "pygments_lexer": "ipython3",
   "version": "3.7.10"
  },
  "papermill": {
   "default_parameters": {},
   "duration": 15330.145257,
   "end_time": "2022-01-27T11:53:42.415455",
   "environment_variables": {},
   "exception": null,
   "input_path": "__notebook__.ipynb",
   "output_path": "__notebook__.ipynb",
   "parameters": {},
   "start_time": "2022-01-27T07:38:12.270198",
   "version": "2.3.3"
  },
  "widgets": {
   "application/vnd.jupyter.widget-state+json": {
    "state": {
     "0889b938ad8b4ea19f832babb563d52f": {
      "model_module": "@jupyter-widgets/controls",
      "model_module_version": "1.5.0",
      "model_name": "FloatProgressModel",
      "state": {
       "_dom_classes": [],
       "_model_module": "@jupyter-widgets/controls",
       "_model_module_version": "1.5.0",
       "_model_name": "FloatProgressModel",
       "_view_count": null,
       "_view_module": "@jupyter-widgets/controls",
       "_view_module_version": "1.5.0",
       "_view_name": "ProgressView",
       "bar_style": "danger",
       "description": "",
       "description_tooltip": null,
       "layout": "IPY_MODEL_d37e548160bc40e88a5edbd5f1a68b4f",
       "max": 2136960.0,
       "min": 0.0,
       "orientation": "horizontal",
       "style": "IPY_MODEL_30113aa6400d492697956f71c27b0741",
       "value": 2136778.0
      }
     },
     "1547b696e96f4d5eb94d6fbc576ea73a": {
      "model_module": "@jupyter-widgets/controls",
      "model_module_version": "1.5.0",
      "model_name": "DescriptionStyleModel",
      "state": {
       "_model_module": "@jupyter-widgets/controls",
       "_model_module_version": "1.5.0",
       "_model_name": "DescriptionStyleModel",
       "_view_count": null,
       "_view_module": "@jupyter-widgets/base",
       "_view_module_version": "1.2.0",
       "_view_name": "StyleView",
       "description_width": ""
      }
     },
     "30113aa6400d492697956f71c27b0741": {
      "model_module": "@jupyter-widgets/controls",
      "model_module_version": "1.5.0",
      "model_name": "ProgressStyleModel",
      "state": {
       "_model_module": "@jupyter-widgets/controls",
       "_model_module_version": "1.5.0",
       "_model_name": "ProgressStyleModel",
       "_view_count": null,
       "_view_module": "@jupyter-widgets/base",
       "_view_module_version": "1.2.0",
       "_view_name": "StyleView",
       "bar_color": null,
       "description_width": ""
      }
     },
     "3c3fd518c186407593fd3a514ce9de45": {
      "model_module": "@jupyter-widgets/base",
      "model_module_version": "1.2.0",
      "model_name": "LayoutModel",
      "state": {
       "_model_module": "@jupyter-widgets/base",
       "_model_module_version": "1.2.0",
       "_model_name": "LayoutModel",
       "_view_count": null,
       "_view_module": "@jupyter-widgets/base",
       "_view_module_version": "1.2.0",
       "_view_name": "LayoutView",
       "align_content": null,
       "align_items": null,
       "align_self": null,
       "border": null,
       "bottom": null,
       "display": null,
       "flex": null,
       "flex_flow": null,
       "grid_area": null,
       "grid_auto_columns": null,
       "grid_auto_flow": null,
       "grid_auto_rows": null,
       "grid_column": null,
       "grid_gap": null,
       "grid_row": null,
       "grid_template_areas": null,
       "grid_template_columns": null,
       "grid_template_rows": null,
       "height": null,
       "justify_content": null,
       "justify_items": null,
       "left": null,
       "margin": null,
       "max_height": null,
       "max_width": null,
       "min_height": null,
       "min_width": null,
       "object_fit": null,
       "object_position": null,
       "order": null,
       "overflow": null,
       "overflow_x": null,
       "overflow_y": null,
       "padding": null,
       "right": null,
       "top": null,
       "visibility": null,
       "width": null
      }
     },
     "8792bd09880c409d8286f7ae653cc5c6": {
      "model_module": "@jupyter-widgets/base",
      "model_module_version": "1.2.0",
      "model_name": "LayoutModel",
      "state": {
       "_model_module": "@jupyter-widgets/base",
       "_model_module_version": "1.2.0",
       "_model_name": "LayoutModel",
       "_view_count": null,
       "_view_module": "@jupyter-widgets/base",
       "_view_module_version": "1.2.0",
       "_view_name": "LayoutView",
       "align_content": null,
       "align_items": null,
       "align_self": null,
       "border": null,
       "bottom": null,
       "display": null,
       "flex": null,
       "flex_flow": null,
       "grid_area": null,
       "grid_auto_columns": null,
       "grid_auto_flow": null,
       "grid_auto_rows": null,
       "grid_column": null,
       "grid_gap": null,
       "grid_row": null,
       "grid_template_areas": null,
       "grid_template_columns": null,
       "grid_template_rows": null,
       "height": null,
       "justify_content": null,
       "justify_items": null,
       "left": null,
       "margin": null,
       "max_height": null,
       "max_width": null,
       "min_height": null,
       "min_width": null,
       "object_fit": null,
       "object_position": null,
       "order": null,
       "overflow": null,
       "overflow_x": null,
       "overflow_y": null,
       "padding": null,
       "right": null,
       "top": null,
       "visibility": null,
       "width": null
      }
     },
     "904e3ba0c7c442dda6ccf13db2e01c01": {
      "model_module": "@jupyter-widgets/controls",
      "model_module_version": "1.5.0",
      "model_name": "DescriptionStyleModel",
      "state": {
       "_model_module": "@jupyter-widgets/controls",
       "_model_module_version": "1.5.0",
       "_model_name": "DescriptionStyleModel",
       "_view_count": null,
       "_view_module": "@jupyter-widgets/base",
       "_view_module_version": "1.2.0",
       "_view_name": "StyleView",
       "description_width": ""
      }
     },
     "906d6a4903a640f889b0941292ba1b63": {
      "model_module": "@jupyter-widgets/controls",
      "model_module_version": "1.5.0",
      "model_name": "HTMLModel",
      "state": {
       "_dom_classes": [],
       "_model_module": "@jupyter-widgets/controls",
       "_model_module_version": "1.5.0",
       "_model_name": "HTMLModel",
       "_view_count": null,
       "_view_module": "@jupyter-widgets/controls",
       "_view_module_version": "1.5.0",
       "_view_name": "HTMLView",
       "description": "",
       "description_tooltip": null,
       "layout": "IPY_MODEL_e5534175e6e6491e89fe8066f68d8645",
       "placeholder": "​",
       "style": "IPY_MODEL_904e3ba0c7c442dda6ccf13db2e01c01",
       "value": "100%"
      }
     },
     "960d3dced96a4e999162205e791ea526": {
      "model_module": "@jupyter-widgets/controls",
      "model_module_version": "1.5.0",
      "model_name": "HBoxModel",
      "state": {
       "_dom_classes": [],
       "_model_module": "@jupyter-widgets/controls",
       "_model_module_version": "1.5.0",
       "_model_name": "HBoxModel",
       "_view_count": null,
       "_view_module": "@jupyter-widgets/controls",
       "_view_module_version": "1.5.0",
       "_view_name": "HBoxView",
       "box_style": "",
       "children": [
        "IPY_MODEL_906d6a4903a640f889b0941292ba1b63",
        "IPY_MODEL_0889b938ad8b4ea19f832babb563d52f",
        "IPY_MODEL_abf4ffbbecd8484c95b4f7df663a6b10"
       ],
       "layout": "IPY_MODEL_3c3fd518c186407593fd3a514ce9de45"
      }
     },
     "abf4ffbbecd8484c95b4f7df663a6b10": {
      "model_module": "@jupyter-widgets/controls",
      "model_module_version": "1.5.0",
      "model_name": "HTMLModel",
      "state": {
       "_dom_classes": [],
       "_model_module": "@jupyter-widgets/controls",
       "_model_module_version": "1.5.0",
       "_model_name": "HTMLModel",
       "_view_count": null,
       "_view_module": "@jupyter-widgets/controls",
       "_view_module_version": "1.5.0",
       "_view_name": "HTMLView",
       "description": "",
       "description_tooltip": null,
       "layout": "IPY_MODEL_8792bd09880c409d8286f7ae653cc5c6",
       "placeholder": "​",
       "style": "IPY_MODEL_1547b696e96f4d5eb94d6fbc576ea73a",
       "value": " 2136778/2136960 [4:13:44&lt;00:01, 129.81it/s]"
      }
     },
     "d37e548160bc40e88a5edbd5f1a68b4f": {
      "model_module": "@jupyter-widgets/base",
      "model_module_version": "1.2.0",
      "model_name": "LayoutModel",
      "state": {
       "_model_module": "@jupyter-widgets/base",
       "_model_module_version": "1.2.0",
       "_model_name": "LayoutModel",
       "_view_count": null,
       "_view_module": "@jupyter-widgets/base",
       "_view_module_version": "1.2.0",
       "_view_name": "LayoutView",
       "align_content": null,
       "align_items": null,
       "align_self": null,
       "border": null,
       "bottom": null,
       "display": null,
       "flex": null,
       "flex_flow": null,
       "grid_area": null,
       "grid_auto_columns": null,
       "grid_auto_flow": null,
       "grid_auto_rows": null,
       "grid_column": null,
       "grid_gap": null,
       "grid_row": null,
       "grid_template_areas": null,
       "grid_template_columns": null,
       "grid_template_rows": null,
       "height": null,
       "justify_content": null,
       "justify_items": null,
       "left": null,
       "margin": null,
       "max_height": null,
       "max_width": null,
       "min_height": null,
       "min_width": null,
       "object_fit": null,
       "object_position": null,
       "order": null,
       "overflow": null,
       "overflow_x": null,
       "overflow_y": null,
       "padding": null,
       "right": null,
       "top": null,
       "visibility": null,
       "width": null
      }
     },
     "e5534175e6e6491e89fe8066f68d8645": {
      "model_module": "@jupyter-widgets/base",
      "model_module_version": "1.2.0",
      "model_name": "LayoutModel",
      "state": {
       "_model_module": "@jupyter-widgets/base",
       "_model_module_version": "1.2.0",
       "_model_name": "LayoutModel",
       "_view_count": null,
       "_view_module": "@jupyter-widgets/base",
       "_view_module_version": "1.2.0",
       "_view_name": "LayoutView",
       "align_content": null,
       "align_items": null,
       "align_self": null,
       "border": null,
       "bottom": null,
       "display": null,
       "flex": null,
       "flex_flow": null,
       "grid_area": null,
       "grid_auto_columns": null,
       "grid_auto_flow": null,
       "grid_auto_rows": null,
       "grid_column": null,
       "grid_gap": null,
       "grid_row": null,
       "grid_template_areas": null,
       "grid_template_columns": null,
       "grid_template_rows": null,
       "height": null,
       "justify_content": null,
       "justify_items": null,
       "left": null,
       "margin": null,
       "max_height": null,
       "max_width": null,
       "min_height": null,
       "min_width": null,
       "object_fit": null,
       "object_position": null,
       "order": null,
       "overflow": null,
       "overflow_x": null,
       "overflow_y": null,
       "padding": null,
       "right": null,
       "top": null,
       "visibility": null,
       "width": null
      }
     }
    },
    "version_major": 2,
    "version_minor": 0
   }
  }
 },
 "nbformat": 4,
 "nbformat_minor": 5
}
